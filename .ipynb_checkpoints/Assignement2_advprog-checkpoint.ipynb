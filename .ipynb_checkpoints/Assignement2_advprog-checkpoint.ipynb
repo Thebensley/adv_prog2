{
 "cells": [
  {
   "cell_type": "markdown",
   "id": "78be3988-94e4-4f3b-9ce3-75ed38438927",
   "metadata": {},
   "source": [
    "**SECOND ASSIGNMENT: PREDICTING EMPLOYEE ATTRITION/BURNOUT** \\\n",
    "**AUTHORS :** AHMAD ALOBAID, YOUSSEF BENSLIMANE"
   ]
  },
  {
   "cell_type": "markdown",
   "id": "91de30f1-8351-4324-b775-b09c03d79000",
   "metadata": {},
   "source": [
    "# 1. Simplified EDA\n",
    "We set the seed to the student id formula given in the exercise, which is 4. We start by exploring the data and we start by printing the info and the head of dataframe we created from the data stored in the csv file `attrition_availabledata_04.csv`. We also explore the number of features, their types and the number of data points. We also check if there are any missing values and explore which features are categorical and which are numeric. Some are automatically loaded as object, and we converted them to a categorical type. We also check for columns which have the same value for all the data points and we remove them as they do not add any useful information for the training and prediction."
   ]
  },
  {
   "cell_type": "code",
   "execution_count": 1,
   "id": "7c6cea1e-ae0d-4be5-aa8a-d1c0b74cec5e",
   "metadata": {},
   "outputs": [
    {
     "name": "stdout",
     "output_type": "stream",
     "text": [
      "Info: \n",
      "<class 'pandas.core.frame.DataFrame'>\n",
      "RangeIndex: 2940 entries, 0 to 2939\n",
      "Data columns (total 31 columns):\n",
      " #   Column                   Non-Null Count  Dtype  \n",
      "---  ------                   --------------  -----  \n",
      " 0   hrs                      2940 non-null   float64\n",
      " 1   absences                 2940 non-null   float64\n",
      " 2   JobInvolvement           2940 non-null   float64\n",
      " 3   PerformanceRating        2940 non-null   float64\n",
      " 4   EnvironmentSatisfaction  2940 non-null   float64\n",
      " 5   JobSatisfaction          2940 non-null   float64\n",
      " 6   WorkLifeBalance          2940 non-null   float64\n",
      " 7   Age                      2940 non-null   float64\n",
      " 8   BusinessTravel           2940 non-null   object \n",
      " 9   Department               2940 non-null   object \n",
      " 10  DistanceFromHome         2940 non-null   float64\n",
      " 11  Education                2940 non-null   float64\n",
      " 12  EducationField           2940 non-null   object \n",
      " 13  EmployeeCount            2940 non-null   float64\n",
      " 14  EmployeeID               2940 non-null   float64\n",
      " 15  Gender                   2940 non-null   object \n",
      " 16  JobLevel                 2940 non-null   float64\n",
      " 17  JobRole                  2940 non-null   object \n",
      " 18  MaritalStatus            2940 non-null   object \n",
      " 19  MonthlyIncome            2940 non-null   float64\n",
      " 20  NumCompaniesWorked       2940 non-null   float64\n",
      " 21  Over18                   2940 non-null   object \n",
      " 22  PercentSalaryHike        2940 non-null   float64\n",
      " 23  StandardHours            2940 non-null   float64\n",
      " 24  StockOptionLevel         2940 non-null   float64\n",
      " 25  TotalWorkingYears        2940 non-null   float64\n",
      " 26  TrainingTimesLastYear    2940 non-null   float64\n",
      " 27  YearsAtCompany           2940 non-null   float64\n",
      " 28  YearsSinceLastPromotion  2940 non-null   float64\n",
      " 29  YearsWithCurrManager     2940 non-null   float64\n",
      " 30  Attrition                2940 non-null   object \n",
      "dtypes: float64(23), object(8)\n",
      "memory usage: 712.2+ KB\n",
      "None\n",
      "Head: \n",
      "         hrs  absences  JobInvolvement  PerformanceRating  \\\n",
      "0   6.420398      19.0             4.0                3.0   \n",
      "1   7.615521       7.0             4.0                3.0   \n",
      "2   6.093781      18.0             3.0                3.0   \n",
      "3   6.460209       5.0             4.0                3.0   \n",
      "4  10.384712       2.0             2.0                3.0   \n",
      "\n",
      "   EnvironmentSatisfaction  JobSatisfaction  WorkLifeBalance   Age  \\\n",
      "0                      2.0              2.0              3.0  28.0   \n",
      "1                      4.0              2.0              3.0  28.0   \n",
      "2                      1.0              3.0              4.0  37.0   \n",
      "3                      3.0              4.0              3.0  32.0   \n",
      "4                      4.0              2.0              4.0  21.0   \n",
      "\n",
      "  BusinessTravel              Department  ...  Over18  PercentSalaryHike  \\\n",
      "0  Travel_Rarely  Research & Development  ...       Y               18.0   \n",
      "1  Travel_Rarely  Research & Development  ...       Y               15.0   \n",
      "2  Travel_Rarely  Research & Development  ...       Y               17.0   \n",
      "3     Non-Travel  Research & Development  ...       Y               17.0   \n",
      "4  Travel_Rarely  Research & Development  ...       Y               11.0   \n",
      "\n",
      "  StandardHours  StockOptionLevel  TotalWorkingYears TrainingTimesLastYear  \\\n",
      "0           8.0               1.0                1.0                   2.0   \n",
      "1           8.0               0.0                1.0                   1.0   \n",
      "2           8.0               3.0               16.0                   3.0   \n",
      "3           8.0               1.0                9.0                   5.0   \n",
      "4           8.0               1.0                2.0                   3.0   \n",
      "\n",
      "   YearsAtCompany YearsSinceLastPromotion YearsWithCurrManager  Attrition  \n",
      "0             1.0                     0.0                  0.0         No  \n",
      "1             1.0                     0.0                  0.0         No  \n",
      "2             5.0                     0.0                  2.0         No  \n",
      "3             5.0                     1.0                  2.0         No  \n",
      "4             2.0                     2.0                  2.0         No  \n",
      "\n",
      "[5 rows x 31 columns]\n"
     ]
    }
   ],
   "source": [
    "import pandas as pd\n",
    "import random\n",
    "import numpy as np\n",
    "student_id = 4\n",
    "random.seed(student_id)\n",
    "np.random.seed(student_id)\n",
    "\n",
    "data = pd.read_csv(\"attrition_availabledata_04.csv\")\n",
    "\n",
    "# Display the structure of the dataset\n",
    "print(\"Info: \")\n",
    "print(data.info())\n",
    "print(\"Head: \")\n",
    "print(data.head())"
   ]
  },
  {
   "cell_type": "code",
   "execution_count": 2,
   "id": "3275a6c9-04c0-4b7d-8fc7-833188bd4912",
   "metadata": {},
   "outputs": [
    {
     "name": "stdout",
     "output_type": "stream",
     "text": [
      "Shape of the dataset: (2940, 31)\n",
      "# features: 31\n",
      "# data points: 2940\n",
      "Data Types:\n",
      " float64    23\n",
      "object      8\n",
      "Name: count, dtype: int64\n",
      "Missing Values:\n",
      " hrs                        0\n",
      "absences                   0\n",
      "JobInvolvement             0\n",
      "PerformanceRating          0\n",
      "EnvironmentSatisfaction    0\n",
      "JobSatisfaction            0\n",
      "WorkLifeBalance            0\n",
      "Age                        0\n",
      "BusinessTravel             0\n",
      "Department                 0\n",
      "DistanceFromHome           0\n",
      "Education                  0\n",
      "EducationField             0\n",
      "EmployeeCount              0\n",
      "EmployeeID                 0\n",
      "Gender                     0\n",
      "JobLevel                   0\n",
      "JobRole                    0\n",
      "MaritalStatus              0\n",
      "MonthlyIncome              0\n",
      "NumCompaniesWorked         0\n",
      "Over18                     0\n",
      "PercentSalaryHike          0\n",
      "StandardHours              0\n",
      "StockOptionLevel           0\n",
      "TotalWorkingYears          0\n",
      "TrainingTimesLastYear      0\n",
      "YearsAtCompany             0\n",
      "YearsSinceLastPromotion    0\n",
      "YearsWithCurrManager       0\n",
      "Attrition                  0\n",
      "dtype: int64\n",
      "Constant Columns: ['EmployeeCount', 'Over18', 'StandardHours']\n",
      "Attrition Class Distribution:\n",
      " Attrition\n",
      "No     83.877551\n",
      "Yes    16.122449\n",
      "Name: proportion, dtype: float64\n"
     ]
    }
   ],
   "source": [
    "# Basic information about the data\n",
    "print(\"Shape of the dataset:\", data.shape)\n",
    "print(f\"# features: {data.shape[1]}\")\n",
    "print(f\"# data points: {data.shape[0]}\")\n",
    "print(\"Data Types:\\n\", data.dtypes.value_counts())\n",
    "\n",
    "print(\"Missing Values:\\n\", data.isnull().sum())\n",
    "\n",
    "# Constant columns\n",
    "constant_cols = [col for col in data.columns if data[col].nunique() == 1]\n",
    "print(\"Constant Columns:\", constant_cols)\n",
    "\n",
    "# Check the target variable distribution\n",
    "attrition_dist = data[\"Attrition\"].value_counts(normalize=True) * 100\n",
    "print(\"Attrition Class Distribution:\\n\", attrition_dist)\n",
    "print(\"Attrition Class Distribution:\\n\", attrition_dist)\n",
    "\n",
    "# Drop constant columns\n",
    "data_cleaned = data.drop(columns=constant_cols)"
   ]
  },
  {
   "cell_type": "markdown",
   "id": "1907f526-bd92-4c1b-968f-36b5d82f8d19",
   "metadata": {},
   "source": [
    "Through our data summary, we notice that it contains `2940` instances and `31` attributes and no missing values in all 31 columns.\n",
    "## 1.1 Data type\n",
    "### Numerical variables :\n",
    "We have overall 23 numerical variables, which are :\n",
    "- `hrs`\n",
    "- `absences`\n",
    "- `JobInvolvement`\n",
    "- `PerformanceRating`\n",
    "- `EnvironmentSatisfaction`\n",
    "- `JobSatisfaction`\n",
    "- `WorkLifeBalance`\n",
    "- `Age`\n",
    "- `DistanceFromHome`\n",
    "- `Education`\n",
    "- `EmployeeCount` \n",
    "- `EmployeeID` \n",
    "- `JobLevel`\n",
    "- `MonthlyIncome`\n",
    "- `NumCompaniesWorked`\n",
    "- `PercentSalaryHike`\n",
    "- `StandardHours` \n",
    "- `StockOptionLevel`\n",
    "- `TotalWorkingYears`\n",
    "- `TrainingTimesLastYear`\n",
    "- `YearsAtCompany`\n",
    "- `YearsSinceLastPromotion`\n",
    "- `YearsWithCurrManager`\n",
    "### Categorical variables :\n",
    "There are 8 categories in our data, that can be grouped according to the question :\n",
    "- `BusinessTravel`\n",
    "- `Department`\n",
    "- `EducationField`\n",
    "- `Gender`\n",
    "- `JobRole`\n",
    "- `MaritalStatus`\n",
    "- `Over18`\n",
    "- `Attrition` \n",
    "\n",
    "## 1.2 Categorical variables with high cardinality :\n",
    "2 variables have relatively large number of unique categories, which would make modeling more complex :\n",
    "- `JobRole` : has 9 categories\n",
    "- `EducationField` has 6 categories\n"
   ]
  },
  {
   "cell_type": "code",
   "execution_count": 16,
   "id": "952cecaf-d570-4447-a1e5-e920d73ab88e",
   "metadata": {},
   "outputs": [
    {
     "name": "stdout",
     "output_type": "stream",
     "text": [
      "name            ratio Cardinality Frequencies\n",
      "BusinessTravel  0.85            3 Travel_Rarely: 2063, Travel_Frequently: 564, Non-Travel: 313\n",
      "Department      0.94            3 Research & Development: 1919, Sales: 899, Human Resources: 122\n",
      "EducationField  0.96            6 Life Sciences: 1223, Medical: 906, Marketing: 315, Technical Degree: 272, Other: 169, Human Resources: 55\n",
      "Gender          0.34            2 Male: 1767, Female: 1173\n",
      "JobRole         0.83            9 Sales Executive: 634, Research Scientist: 591, Laboratory Technician: 511, Manufacturing Director: 303, Healthcare Representative: 261, Manager: 203, Sales Representative: 167, Research Director: 165, Human Resources: 105\n",
      "MaritalStatus   0.52            3 Married: 1358, Single: 930, Divorced: 652\n",
      "Attrition       0.81            2 No: 2466, Yes: 474\n"
     ]
    }
   ],
   "source": [
    "print(f\"{'name':15} {'ratio'} {'Cardinality':3} {'Frequencies'}\")\n",
    "\n",
    "for cname in data_cleaned.columns:\n",
    "    if data_cleaned[cname].dtype != np.float64:\n",
    "        data_cleaned[cname] = data_cleaned[cname].astype(\"category\")\n",
    "        ccounts = data_cleaned[cname].value_counts()\n",
    "        max_count = ccounts.max()\n",
    "        min_count = ccounts.min()\n",
    "        un_balance = (max_count - min_count) / max_count\n",
    "        cardinality = data_cleaned[cname].nunique()  # Calculate cardinality\n",
    "        categories_frequencies = ', '.join(f\"{cat}: {count}\" for cat, count in ccounts.items())\n",
    "        print(f\"{cname:15} {un_balance:.2f} {cardinality:12} {categories_frequencies}\")\n"
   ]
  },
  {
   "cell_type": "markdown",
   "id": "329c1ff5-6c09-4449-8a27-1d23a3c2a2bc",
   "metadata": {},
   "source": [
    "\n",
    "## 1.3 Features with missing values :\n",
    "None\n",
    "\n",
    "## 1.4 Constant columns or ID columns :\n",
    "### Constant columns :\n",
    "3 constant columns with one value and could be removed from our data :\n",
    "- `Over18` \n",
    "- `EmployeeCount`\n",
    "- `StandardHours`\n",
    "### ID columns :\n",
    "- `EmployeeID` : is a unique identifier and should be removed and excluded from modeling as it doesn't help in predicting the target.\n",
    "\n",
    "## 1.5 Problem type and imbalance :\n",
    "It is a classification problem, where `Attrition` is our target variable. It is likely imbalanced, since we have `83.88%` \"No\" and `16.12%` \"Yes\" in our response variable.\n",
    "\n",
    "## 1.6 Additional considerations :\n",
    "- High cardinality variables should be handled, as they may lead to overfitting if not handled properly.\n",
    "- We have redundancy in our data; constant columns are dropped as they are useless for predicting teh \n",
    "- We most likely need to resample or class weight adjust our response variable, in order to manage the imbalance in our target. "
   ]
  },
  {
   "cell_type": "markdown",
   "id": "cfa08a74-afd6-4eb2-b0c3-5c2caf141276",
   "metadata": {},
   "source": [
    "# 2. Data setup\n",
    "We prepare the data for the inner evaluation and split the data into training and testing data. We also stratify to have a balance response."
   ]
  },
  {
   "cell_type": "markdown",
   "id": "253c3a79-0800-4283-b6dc-5e96c0ad5db0",
   "metadata": {},
   "source": [
    "## 2.1 Data split \n",
    "We split the data into training (80%) and testing (20%) sets."
   ]
  },
  {
   "cell_type": "code",
   "execution_count": 24,
   "id": "4be49253-1db7-4f12-bf20-011be41908f8",
   "metadata": {},
   "outputs": [
    {
     "name": "stdout",
     "output_type": "stream",
     "text": [
      "Training set shape: (2352, 27)\n",
      "Test set shape: (588, 27)\n"
     ]
    },
    {
     "data": {
      "image/png": "[encoded data removed]",
      "text/plain": [
       "<Figure size 800x600 with 1 Axes>"
      ]
     },
     "metadata": {},
     "output_type": "display_data"
    }
   ],
   "source": [
    "from sklearn.model_selection import train_test_split\n",
    "\n",
    "# Separate features and target variable\n",
    "X = data_cleaned.drop(columns=[\"Attrition\"])\n",
    "y = data_cleaned[\"Attrition\"].map({\"Yes\": 1, \"No\": 0})\n",
    "\n",
    "# Spliting the data into training and testing test\n",
    "X_train, X_test, y_train, y_test = train_test_split(X, y, test_size=0.2, random_state=student_id, stratify=y)\n",
    "\n",
    "print(\"Training set shape:\", X_train.shape)\n",
    "print(\"Test set shape:\", X_test.shape)\n",
    "\n",
    "\n",
    "\n",
    "def calculate_percentages(data, name):\n",
    "    counts = pd.Series(data).value_counts(normalize=True) * 100\n",
    "    return {\n",
    "        'Label': [0, 1],\n",
    "        'Percentage': [counts.get(0, 0), counts.get(1, 0)],\n",
    "        'Source': name\n",
    "    }\n",
    "\n",
    "# Calculate percentages for y, y_train, and y_predict\n",
    "data = pd.concat([\n",
    "    pd.DataFrame(calculate_percentages(y, 'y')),\n",
    "    pd.DataFrame(calculate_percentages(y_train, 'y_train')),\n",
    "    pd.DataFrame(calculate_percentages(y_test, 'y_test'))\n",
    "\n",
    "])\n",
    "\n",
    "# Create the bar plot\n",
    "plt.figure(figsize=(8, 6))\n",
    "for source in data['Source'].unique():\n",
    "    subset = data[data['Source'] == source]\n",
    "    plt.bar(subset['Label'] + (0.25 * list(data['Source'].unique()).index(source)),\n",
    "            subset['Percentage'],\n",
    "            width=0.25,\n",
    "            label=source)\n",
    "\n",
    "# Customize the plot\n",
    "plt.xticks([0, 1], ['0', '1'])\n",
    "plt.xlabel('Labels')\n",
    "plt.ylabel('Percentage')\n",
    "plt.title('Percentage of 0s and 1s for y, y_train, and y_predict')\n",
    "plt.legend(title='Source')\n",
    "plt.grid(axis='y', linestyle='--', alpha=0.7)\n",
    "plt.show()"
   ]
  },
  {
   "cell_type": "markdown",
   "id": "1a6f5e4b-8cd4-43ef-9d15-4b986d6d5db7",
   "metadata": {},
   "source": [
    "## 2.2 Step for inner evaluation :\n",
    "\n",
    "- For inner evaluation, we'd use `3-fold-cross-validation` for computational efficiency. It would allow us to divide the training set into 3 folds; 2 for training and third for validation in each iteration\n",
    "- As for the workflow, we'd apply the method across all models and hyperparameter tuning tasks for consistency\n",
    "- We'd then go for cross validation to reduce the risk of overfitting\n",
    "- Finally, we'd choose a metric suited for the problem. We would choose the balanced accuracy metric which is suitable for unbalanced data [1](https://support.sas.com/resources/papers/proceedings17/0942-2017.pdf), [2](https://scikit-learn.org/stable/modules/generated/sklearn.metrics.balanced_accuracy_score.html).\n"
   ]
  },
  {
   "cell_type": "markdown",
   "id": "25c0f2de-af2a-42ed-8ad4-694ebbe6f335",
   "metadata": {},
   "source": [
    "# 3. Basic Methods: Decision Tree and KNN"
   ]
  },
  {
   "cell_type": "markdown",
   "id": "2f8da6a8-4d74-4a12-b53f-08bf7a311c86",
   "metadata": {},
   "source": [
    "## 3.1 Train, Evaluate, and Compare Two Basic Methods with Default Hyperparameters\n",
    "- We'd compare two basic methods (Decision tree and KNN) with default hyperparameters alongside `DummyClassifier`\n",
    "- For KNN, we'd compare two scaling methods (StandardScaling vs MinMaxScaler)"
   ]
  },
  {
   "cell_type": "code",
   "execution_count": 5,
   "id": "0351a799-e86c-464b-a1d3-e89035693dd2",
   "metadata": {},
   "outputs": [
    {
     "name": "stdout",
     "output_type": "stream",
     "text": [
      "Baseline Results:\n"
     ]
    },
    {
     "data": {
      "text/html": [
       "<div>\n",
       "<style scoped>\n",
       "    .dataframe tbody tr th:only-of-type {\n",
       "        vertical-align: middle;\n",
       "    }\n",
       "\n",
       "    .dataframe tbody tr th {\n",
       "        vertical-align: top;\n",
       "    }\n",
       "\n",
       "    .dataframe thead th {\n",
       "        text-align: right;\n",
       "    }\n",
       "</style>\n",
       "<table border=\"1\" class=\"dataframe\">\n",
       "  <thead>\n",
       "    <tr style=\"text-align: right;\">\n",
       "      <th></th>\n",
       "      <th>Scaler</th>\n",
       "      <th>Model</th>\n",
       "      <th>Accuracy</th>\n",
       "      <th>Balanced Accuracy</th>\n",
       "      <th>Training Time (s)</th>\n",
       "    </tr>\n",
       "  </thead>\n",
       "  <tbody>\n",
       "    <tr>\n",
       "      <th>0</th>\n",
       "      <td>StandardScaler</td>\n",
       "      <td>Decision Tree</td>\n",
       "      <td>0.918367</td>\n",
       "      <td>0.857841</td>\n",
       "      <td>0.019695</td>\n",
       "    </tr>\n",
       "    <tr>\n",
       "      <th>1</th>\n",
       "      <td>StandardScaler</td>\n",
       "      <td>KNN</td>\n",
       "      <td>0.870748</td>\n",
       "      <td>0.646739</td>\n",
       "      <td>0.003650</td>\n",
       "    </tr>\n",
       "    <tr>\n",
       "      <th>2</th>\n",
       "      <td>StandardScaler</td>\n",
       "      <td>Dummy</td>\n",
       "      <td>0.838435</td>\n",
       "      <td>0.500000</td>\n",
       "      <td>0.004591</td>\n",
       "    </tr>\n",
       "    <tr>\n",
       "      <th>3</th>\n",
       "      <td>MinMaxScaler</td>\n",
       "      <td>Decision Tree</td>\n",
       "      <td>0.918367</td>\n",
       "      <td>0.857841</td>\n",
       "      <td>0.020356</td>\n",
       "    </tr>\n",
       "    <tr>\n",
       "      <th>4</th>\n",
       "      <td>MinMaxScaler</td>\n",
       "      <td>KNN</td>\n",
       "      <td>0.828231</td>\n",
       "      <td>0.595890</td>\n",
       "      <td>0.004491</td>\n",
       "    </tr>\n",
       "    <tr>\n",
       "      <th>5</th>\n",
       "      <td>MinMaxScaler</td>\n",
       "      <td>Dummy</td>\n",
       "      <td>0.838435</td>\n",
       "      <td>0.500000</td>\n",
       "      <td>0.003644</td>\n",
       "    </tr>\n",
       "  </tbody>\n",
       "</table>\n",
       "</div>"
      ],
      "text/plain": [
       "           Scaler          Model  Accuracy  Balanced Accuracy  \\\n",
       "0  StandardScaler  Decision Tree  0.918367           0.857841   \n",
       "1  StandardScaler            KNN  0.870748           0.646739   \n",
       "2  StandardScaler          Dummy  0.838435           0.500000   \n",
       "3    MinMaxScaler  Decision Tree  0.918367           0.857841   \n",
       "4    MinMaxScaler            KNN  0.828231           0.595890   \n",
       "5    MinMaxScaler          Dummy  0.838435           0.500000   \n",
       "\n",
       "   Training Time (s)  \n",
       "0           0.019695  \n",
       "1           0.003650  \n",
       "2           0.004591  \n",
       "3           0.020356  \n",
       "4           0.004491  \n",
       "5           0.003644  "
      ]
     },
     "metadata": {},
     "output_type": "display_data"
    },
    {
     "name": "stdout",
     "output_type": "stream",
     "text": [
      "Mean Training time: 0.0094\n"
     ]
    }
   ],
   "source": [
    "from sklearn.compose import ColumnTransformer\n",
    "from sklearn.pipeline import Pipeline\n",
    "from sklearn.preprocessing import StandardScaler, MinMaxScaler, OneHotEncoder\n",
    "from sklearn.tree import DecisionTreeClassifier\n",
    "from sklearn.neighbors import KNeighborsClassifier\n",
    "from sklearn.dummy import DummyClassifier\n",
    "from sklearn.model_selection import train_test_split, GridSearchCV, cross_val_score\n",
    "from sklearn.metrics import accuracy_score, balanced_accuracy_score\n",
    "from IPython.display import display\n",
    "import pandas as pd\n",
    "import numpy as np\n",
    "import time\n",
    "\n",
    "\n",
    "\n",
    "# Preprocessings\n",
    "categorical_cols = X_train.select_dtypes(include=[\"category\"]).columns\n",
    "numerical_cols = X_train.select_dtypes(exclude=[\"category\"]).columns\n",
    "\n",
    "# Define preprocessors\n",
    "scalers = {\n",
    "    \"StandardScaler\": StandardScaler(),\n",
    "    \"MinMaxScaler\": MinMaxScaler()\n",
    "}\n",
    "\n",
    "# Models\n",
    "models = {\n",
    "    \"Decision Tree\": DecisionTreeClassifier(random_state=student_id),\n",
    "    \"KNN\": KNeighborsClassifier(),\n",
    "    \"Dummy\": DummyClassifier(strategy=\"most_frequent\"),\n",
    "}\n",
    "\n",
    "# Baseline evaluation with default hyperparameters\n",
    "results = []\n",
    "for scaler_name, scaler in scalers.items():\n",
    "    for model_name, model in models.items():\n",
    "        preprocessor = ColumnTransformer(\n",
    "            transformers=[\n",
    "                (\"num\", scaler, numerical_cols),\n",
    "                (\"cat\", OneHotEncoder(handle_unknown=\"ignore\"), categorical_cols),\n",
    "            ]\n",
    "        )\n",
    "        pipeline = Pipeline(steps=[(\"preprocessor\", preprocessor), (\"model\", model)])\n",
    "        \n",
    "        # Measure training time\n",
    "        start_time = time.time()\n",
    "        pipeline.fit(X_train, y_train)\n",
    "        training_time = time.time() - start_time\n",
    "        \n",
    "        # Evaluate\n",
    "        y_pred = pipeline.predict(X_test)\n",
    "        acc = accuracy_score(y_test, y_pred)\n",
    "        bal_acc = balanced_accuracy_score(y_test, y_pred)\n",
    "        \n",
    "        # Save results\n",
    "        results.append({\n",
    "            \"Scaler\": scaler_name,\n",
    "            \"Model\": model_name,\n",
    "            \"Accuracy\": acc,\n",
    "            \"Balanced Accuracy\": bal_acc,\n",
    "            \"Training Time (s)\": training_time,\n",
    "        })\n",
    "\n",
    "results_df = pd.DataFrame(results)\n",
    "print(\"Baseline Results:\")\n",
    "display(results_df)\n",
    "avg_training_time = results_df[\"Training Time (s)\"].mean()\n",
    "print(f\"Mean Training time: {avg_training_time:.4f}\")"
   ]
  },
  {
   "cell_type": "markdown",
   "id": "aac00112-1414-4507-9b63-3d6343d5ae14",
   "metadata": {},
   "source": [
    "## 3.2 Training and Evaluation with Hyper Parameter Tuning\n",
    "In this section, we tune the hyper parameters for the KNN and Decision Trees."
   ]
  },
  {
   "cell_type": "code",
   "execution_count": 6,
   "id": "0170e7ed-2c73-4bba-8e5c-e5ba125e2c87",
   "metadata": {},
   "outputs": [
    {
     "name": "stdout",
     "output_type": "stream",
     "text": [
      "Best Parameters for KNN: {'model__n_neighbors': 3}\n",
      "Best Parameters for Decision Tree: {'model__max_depth': 19}\n",
      "Best Balanced Accuracy for KNN (inner): 0.6499490682289021\n",
      "Best Balanced Accuracy for Decision Tree (inner): 0.7548722627003791\n",
      "Final KNN Test Accuracy (outer): 0.768805380591438\n",
      "Final Decision Tree Test Accuracy (outer): 0.8631045158535283\n",
      "Mean Training time with default values: 0.0094 seconds\n",
      "Training time with hyper parameter tuning for KNN: 0.9842 seconds\n",
      "Training time with hyper parameter tuning for Decision Tree: 0.3009 seconds\n",
      "Training time difference with KNN: 0.9747 seconds\n",
      "Training time difference with Decision Tree: 0.2915 seconds\n"
     ]
    }
   ],
   "source": [
    "# Hyperparameter tuning\n",
    "param_grid_knn = {\"model__n_neighbors\": list(range(3, 10, 1))}\n",
    "param_grid_tree = {\"model__max_depth\": list(range(3, 30, 1)) + [None]}\n",
    "\n",
    "# GridSearchCV for KNN\n",
    "preprocessor = ColumnTransformer(\n",
    "    transformers=[\n",
    "        (\"num\", StandardScaler(), numerical_cols),\n",
    "        (\"cat\", OneHotEncoder(handle_unknown=\"ignore\"), categorical_cols),\n",
    "    ]\n",
    ")\n",
    "knn_pipeline = Pipeline(steps=[(\"preprocessor\", preprocessor), (\"model\", KNeighborsClassifier())])\n",
    "grid_knn = GridSearchCV(knn_pipeline, param_grid_knn, cv=3, scoring=\"balanced_accuracy\", n_jobs=-1)\n",
    "start_time = time.time()\n",
    "grid_knn.fit(X_train, y_train)\n",
    "knn_grid_training_time = time.time() - start_time\n",
    "\n",
    "# GridSearchCV for Decision Tree\n",
    "tree_pipeline = Pipeline(steps=[(\"preprocessor\", preprocessor), (\"model\", DecisionTreeClassifier(random_state=student_id))])\n",
    "grid_tree = GridSearchCV(tree_pipeline, param_grid_tree, cv=3, scoring=\"balanced_accuracy\", n_jobs=-1)\n",
    "start_time = time.time()\n",
    "grid_tree.fit(X_train, y_train)\n",
    "tree_grid_training_time = time.time() - start_time\n",
    "\n",
    "\n",
    "# Compare HPO results\n",
    "print(\"Best Parameters for KNN:\", grid_knn.best_params_)\n",
    "print(\"Best Parameters for Decision Tree:\", grid_tree.best_params_)\n",
    "print(\"Best Balanced Accuracy for KNN (inner):\", grid_knn.best_score_)\n",
    "print(\"Best Balanced Accuracy for Decision Tree (inner):\", grid_tree.best_score_)\n",
    "\n",
    "final_knn = grid_knn.best_estimator_\n",
    "final_tree = grid_tree.best_estimator_\n",
    "\n",
    "knn_test_acc = balanced_accuracy_score(y_test, final_knn.predict(X_test))\n",
    "tree_test_acc = balanced_accuracy_score(y_test, final_tree.predict(X_test))\n",
    "\n",
    "print(\"Final KNN Test Accuracy (outer):\", knn_test_acc)\n",
    "print(\"Final Decision Tree Test Accuracy (outer):\", tree_test_acc)\n",
    "\n",
    "print(f\"Mean Training time with default values: {avg_training_time:.4f} seconds\")\n",
    "print(f\"Training time with hyper parameter tuning for KNN: {knn_grid_training_time:.4f} seconds\")\n",
    "print(f\"Training time with hyper parameter tuning for Decision Tree: {tree_grid_training_time:.4f} seconds\")\n",
    "print(f\"Training time difference with KNN: {(knn_grid_training_time-avg_training_time):.4f} seconds\")\n",
    "print(f\"Training time difference with Decision Tree: {(tree_grid_training_time-avg_training_time):.4f} seconds\")"
   ]
  },
  {
   "cell_type": "markdown",
   "id": "20b5f8ec-eca1-474b-8748-fd86bcc08cd9",
   "metadata": {},
   "source": [
    "- Does HPO improve the results? Yes it does. For KNN the score improved from 0.6467 to 0.7688 and for the decision tree the score improved from 0.8578 to 0.8631. \n",
    "- What is the computation cost? The GridSearch looks for all different possible combinations for the parameter values, which can take a lot of time depending on the problem settings, possible values, and the data used. Running this on our machine varies. Generally, the difference between tunning KNN and using the default parameter values (mean of the different models) is around 0.01 seconds and around 0.29 seconds for decision trees. \n",
    "- Which HPO technique obtaines the best results? In this problem, we used GridSearchCV, which by definition would out perform the Random Search as it would check all possibilities while the Random Search will only check part. However, the Random Search is faster as it test only a subset of the possibilities. Using the GridSearchCV, we found that Decision Tree out performs KNN. It also outperforms KNN with the default settings too."
   ]
  },
  {
   "cell_type": "markdown",
   "id": "ff010a04-7086-43cc-bbf2-fc21729b2ed8",
   "metadata": {},
   "source": [
    "# 4. Results and Final Model\n",
    "## 4.1 Inner evaluation"
   ]
  },
  {
   "cell_type": "code",
   "execution_count": 19,
   "id": "f9f627fd-5465-4fab-bee4-c5ba838c6123",
   "metadata": {},
   "outputs": [
    {
     "data": {
      "image/png": "[encoded data removed]",
      "text/plain": [
       "<Figure size 1200x600 with 1 Axes>"
      ]
     },
     "metadata": {},
     "output_type": "display_data"
    },
    {
     "data": {
      "image/png": "[encoded data removed]",
      "text/plain": [
       "<Figure size 1200x600 with 1 Axes>"
      ]
     },
     "metadata": {},
     "output_type": "display_data"
    }
   ],
   "source": [
    "# Code to check the best inner evaluation and report all of them\n",
    "\n",
    "import matplotlib.pyplot as plt\n",
    "\n",
    "grid_search = grid_knn\n",
    "\n",
    "def plot_param_scores(grid_search):\n",
    "    # Get CV results\n",
    "    cv_results = grid_search.cv_results_\n",
    "\n",
    "    # Automatically fetch the parameter name\n",
    "    param_names = list(cv_results['params'][0].keys())\n",
    "    if len(param_names) != 1:\n",
    "        raise ValueError(f\"Multiple parameters found: {param_names}. Please specify which one to plot.\")\n",
    "    param_name = param_names[0]\n",
    "\n",
    "    # Extract the parameter values and corresponding scores\n",
    "    param_values = []\n",
    "    mean_test_scores = []\n",
    "\n",
    "    for params, mean_score in zip(cv_results['params'], cv_results['mean_test_score']):\n",
    "        value = params[param_name]\n",
    "        # Replace None with a label for plotting\n",
    "        param_values.append(\"None\" if value is None else value)\n",
    "        mean_test_scores.append(mean_score)\n",
    "\n",
    "    # Plot the scores\n",
    "    plt.figure(figsize=(12, 6))\n",
    "    plt.plot(param_values, mean_test_scores, marker='o', label=f'{param_name}')\n",
    "    plt.xlabel(param_name)\n",
    "    plt.ylabel('Mean Test Score')\n",
    "    plt.title(f'Effect of {param_name} on Model Performance')\n",
    "    plt.grid(True)\n",
    "    plt.legend()\n",
    "    plt.show()\n",
    "\n",
    "\n",
    "plot_param_scores(grid_knn)\n",
    "plot_param_scores(grid_tree)"
   ]
  },
  {
   "cell_type": "markdown",
   "id": "b59754bd-2b72-440e-8b06-d0de21a1545a",
   "metadata": {},
   "source": [
    "The best inner evaluation: \n",
    "- For the KNN, the best value is with k=3 and the performance drops significantly after that.\n",
    "- max_depth increases as the max_depth values increase and peaks at max_depth=19 and starts to declines after that. "
   ]
  },
  {
   "cell_type": "markdown",
   "id": "ea7669d5-04d6-4b9f-b67d-34741d7966c7",
   "metadata": {},
   "source": [
    "## 4.2 Outer evaluation\n",
    "note that for the scoring we used balanced_accuracy which is more approperiate if we are evalut"
   ]
  },
  {
   "cell_type": "code",
   "execution_count": 18,
   "id": "000e24c6-31b7-4163-8e9c-17e4d9c93373",
   "metadata": {},
   "outputs": [
    {
     "name": "stdout",
     "output_type": "stream",
     "text": [
      "Final KNN Test Accuracy (Outer): 0.7688\n",
      "Final Decision Tree Test Accuracy (Outer): 0.8631\n",
      "Best Parameters for KNN: {'model__n_neighbors': 3}\n",
      "Best Parameters for Decision Tree: {'model__max_depth': 19}\n",
      "The best model is: Decision Tree with max_depth=19 and balanced accuracy: 0.86\n"
     ]
    }
   ],
   "source": [
    "# Evaluate the best models on the test set\n",
    "\n",
    "print(f\"Final KNN Test Accuracy (Outer): {knn_test_acc:.4f}\")\n",
    "print(f\"Final Decision Tree Test Accuracy (Outer): {tree_test_acc:.4f}\")\n",
    "print(\"Best Parameters for KNN:\", grid_knn.best_params_)\n",
    "print(\"Best Parameters for Decision Tree:\", grid_tree.best_params_)\n",
    "\n",
    "best_model = None\n",
    "best_acc = None\n",
    "best_params = None\n",
    "if tree_test_acc > knn_test_acc:\n",
    "    best_model = \"Decision Tree\"\n",
    "    best_acc = tree_test_acc\n",
    "    best_params = grid_tree.best_params_\n",
    "else:\n",
    "    best_model = \"KNN\"\n",
    "    best_acc = knn_test_acc\n",
    "    best_params = grid_knn.best_params_\n",
    "\n",
    "best_params_key = next(iter(best_params))\n",
    "best_params_val = best_params[best_params_key]\n",
    "best_params_name = best_params_key.split(\"__\")[-1] \n",
    "print(f\"The best model is: {best_model} with {best_params_name}={best_params_val} and balanced accuracy: {best_acc:.2f}\")"
   ]
  },
  {
   "cell_type": "markdown",
   "id": "60467c31-ae68-45ae-a421-c3f481a94da3",
   "metadata": {},
   "source": [
    "## 4.3 Final Model\n",
    "\n",
    "We do not pick the model suggested by the GridSearch as there was a sign on overfitting as the increase in accuracy is very small as the depth increase. This can be noticed from the previously depicted graph. Hence, we choose our final model to be with max_depth=15. \n",
    "We use this settings to create the final model by training it on the whole dataset what we have (available data). The final model is saved using the [joblib](https://joblib.readthedocs.io/en/stable/) library (if it is not yet saved). We use the final model to predict the competition data. Note that the model is not trained on the competition data. Besides that, we inspect the competition data and check for missing values (we did not find any) and show some meta data (e.g., number of features, datapoints, types)."
   ]
  },
  {
   "cell_type": "code",
   "execution_count": 15,
   "id": "411daa73-609f-44d5-86cf-e2a663175648",
   "metadata": {},
   "outputs": [
    {
     "name": "stdout",
     "output_type": "stream",
     "text": [
      "final model balanced accuracy: 0.8534\n",
      "Generating the final model joblib\n",
      "Shape of the dataset: (1470, 30)\n",
      "# features: 30\n",
      "# data points: 1470\n",
      "Data Types:\n",
      " float64    23\n",
      "object      7\n",
      "Name: count, dtype: int64\n",
      "Missing Values:\n",
      " hrs                        0\n",
      "absences                   0\n",
      "JobInvolvement             0\n",
      "PerformanceRating          0\n",
      "EnvironmentSatisfaction    0\n",
      "JobSatisfaction            0\n",
      "WorkLifeBalance            0\n",
      "Age                        0\n",
      "BusinessTravel             0\n",
      "Department                 0\n",
      "DistanceFromHome           0\n",
      "Education                  0\n",
      "EducationField             0\n",
      "EmployeeCount              0\n",
      "EmployeeID                 0\n",
      "Gender                     0\n",
      "JobLevel                   0\n",
      "JobRole                    0\n",
      "MaritalStatus              0\n",
      "MonthlyIncome              0\n",
      "NumCompaniesWorked         0\n",
      "Over18                     0\n",
      "PercentSalaryHike          0\n",
      "StandardHours              0\n",
      "StockOptionLevel           0\n",
      "TotalWorkingYears          0\n",
      "TrainingTimesLastYear      0\n",
      "YearsAtCompany             0\n",
      "YearsSinceLastPromotion    0\n",
      "YearsWithCurrManager       0\n",
      "dtype: int64\n",
      "Predictions of the competition data are saved to predictions.csv\n"
     ]
    }
   ],
   "source": [
    "import joblib\n",
    "import os\n",
    "\n",
    "preprocessor = ColumnTransformer(\n",
    "    transformers=[\n",
    "        (\"num\", StandardScaler(), numerical_cols),\n",
    "        (\"cat\", OneHotEncoder(handle_unknown=\"ignore\"), categorical_cols),\n",
    "    ]\n",
    ")\n",
    "pipeline = Pipeline(steps=[(\"preprocessor\", preprocessor), (\"model\", DecisionTreeClassifier(random_state=student_id, max_depth=15))])\n",
    "pipeline.fit(X_train, y_train)\n",
    "\n",
    "y_pred = pipeline.predict(X_test)\n",
    "bal_acc = balanced_accuracy_score(y_test, y_pred)\n",
    "print(f\"final model balanced accuracy: {bal_acc:.4f}\")\n",
    "\n",
    "output_file = \"final_model.joblib\"\n",
    "pipeline = Pipeline(steps=[(\"preprocessor\", preprocessor), (\"model\", DecisionTreeClassifier(random_state=student_id, max_depth=15))])\n",
    "pipeline.fit(X, y)\n",
    "if not os.path.exists(output_file):\n",
    "    with open(output_file, 'wb') as fo:\n",
    "        print(\"Generating the final model joblib\")\n",
    "        joblib.dump(pipeline, fo)\n",
    "else:\n",
    "    print(\"final model already exists.\")\n",
    "with open(output_file, 'rb') as fo:  \n",
    "    final_model = joblib.load(fo)\n",
    "\n",
    "\n",
    "# load the competition data and \n",
    "comp_data = pd.read_csv(\"attrition_competition_04.csv\")\n",
    "\n",
    "# Basic information about the data\n",
    "print(\"Shape of the dataset:\", comp_data.shape)\n",
    "print(f\"# features: {comp_data.shape[1]}\")\n",
    "print(f\"# data points: {comp_data.shape[0]}\")\n",
    "print(\"Data Types:\\n\", comp_data.dtypes.value_counts())\n",
    "print(\"Missing Values:\\n\", comp_data.isnull().sum())\n",
    "\n",
    "\n",
    "comp_X = comp_data.drop(columns=constant_cols)\n",
    "comp_y_pred = final_model.predict(comp_X)\n",
    "\n",
    "for cname in comp_X.columns:\n",
    "    if comp_X[cname].dtype != np.float64:\n",
    "        comp_X[cname] = comp_X[cname].astype(\"category\")\n",
    "\n",
    "df_predictions = pd.DataFrame({\n",
    "    'Row Index': range(len(comp_y_pred)),\n",
    "    'Attrition': comp_y_pred\n",
    "})\n",
    "\n",
    "# Save the DataFrame to a CSV file\n",
    "df_predictions.to_csv('predictions.csv', index=False)\n",
    "print(\"Predictions of the competition data are saved to predictions.csv\")"
   ]
  },
  {
   "cell_type": "markdown",
   "id": "e7aa85dd-08e7-4d9e-b5df-b4c0feab5465",
   "metadata": {},
   "source": [
    "# 6. Open Choice\n",
    "For this task, we decided to use XGBoost. It stands for Extreme Gradient Boosting. It is a distributed Gradient Boosting. It uses weak learners and combine them to create a stronger classifier. Sequentially, it passes the errors (wrong predictions) for the weak classifier to the next weak classifiers. \n",
    "\n",
    "## 6.1 Training the Evaluation of the XGBoost Model\n",
    "We used the [xgboost](https://xgboost.readthedocs.io/en/stable/index.html) library. We evaluated the XGBoost model using the same training and testing sets used for the KNN and Decision Tree models. The XGBoost model outperforms both, the Decision Tree and KNN with a balanced accuracy of 0.9287 (in comparison to 0.7688 for KNN and 0.8631 for Decision Tree). We do not use the Pipeline as there seems to be some incompatibilities when running the XGBClassifier with the scikit-learn Pipeline."
   ]
  },
  {
   "cell_type": "code",
   "execution_count": 14,
   "id": "bd85bb56-e5c3-49f7-aa1c-fe3c7dfc1c22",
   "metadata": {},
   "outputs": [
    {
     "name": "stdout",
     "output_type": "stream",
     "text": [
      "The prediction of the XGBoost model balanced accuracy: 0.9287\n"
     ]
    }
   ],
   "source": [
    "from xgboost import XGBClassifier\n",
    "\n",
    "# Initialize XGBClassifier\n",
    "model = XGBClassifier(objective='binary:logistic', random_state=student_id, enable_categorical=True)\n",
    "\n",
    "# Fit the model to train data\n",
    "model.fit(X_train, y_train)\n",
    "y_pred = model.predict(X_test)\n",
    "bal_acc = balanced_accuracy_score(y_test, y_pred)\n",
    "print(f\"The prediction of the XGBoost model balanced accuracy: {bal_acc:.4f}\")"
   ]
  },
  {
   "cell_type": "markdown",
   "id": "cd62c2d8-711d-4b11-aab1-a09d9315e718",
   "metadata": {},
   "source": [
    "## 6.2 Final XGBoost Model\n",
    "We train the model on the whole dataset and save the model using the library [joblib](https://joblib.readthedocs.io/en/stable/). After that, we generate a prediction of the competition data and named the file `predictions_xgboost.csv`."
   ]
  },
  {
   "cell_type": "code",
   "execution_count": 20,
   "id": "93a18377-8a1e-4833-83f0-e21073bcf0c0",
   "metadata": {},
   "outputs": [
    {
     "name": "stdout",
     "output_type": "stream",
     "text": [
      "xgboost model already exists.\n",
      "XGBoost Predictions of the competition data are saved to xgboost_predictions.csv\n"
     ]
    }
   ],
   "source": [
    "output_file = \"xgboost_model.joblib\"\n",
    "model = XGBClassifier(objective='binary:logistic', random_state=student_id, enable_categorical=True)\n",
    "model.fit(X, y)\n",
    "\n",
    "if not os.path.exists(output_file):\n",
    "    with open(output_file, 'wb') as fo:\n",
    "        print(\"Generating the xgboost model joblib\")\n",
    "        joblib.dump(model, fo)\n",
    "else:\n",
    "    print(\"xgboost model already exists.\")\n",
    "    \n",
    "with open(output_file, 'rb') as fo:  \n",
    "    final_model = joblib.load(fo)\n",
    "\n",
    "\n",
    "comp_y_pred = final_model.predict(comp_X)\n",
    "\n",
    "\n",
    "df_predictions = pd.DataFrame({\n",
    "    'Attrition': comp_y_pred\n",
    "})\n",
    "\n",
    "# Save the DataFrame to a CSV file\n",
    "df_predictions.to_csv('xgboost_predictions.csv', index=False)\n",
    "print(\"XGBoost Predictions of the competition data are saved to xgboost_predictions.csv\")"
   ]
  },
  {
   "cell_type": "markdown",
   "id": "cae2a685-9958-4ba0-99bc-d2a7ae7f83fe",
   "metadata": {},
   "source": [
    "## 6.3 Addressing Imbalance\n",
    "We noticed earlier that the response was not balanced. There are multiple ways of addressing it.\n"
   ]
  },
  {
   "cell_type": "markdown",
   "id": "1253d76a-7190-4336-8d99-ade15ea14efa",
   "metadata": {},
   "source": [
    "# 7. The use of AI\n",
    "we used chatGPT to help us fix some of the errors we encountered with the use of pipelines and XGBoost. It also used it to double check our interpretation and understanding. However, we did not use it to copy paste the solutions or the writing of the report except for the figure drawing."
   ]
  },
  {
   "cell_type": "markdown",
   "id": "aa987c82-e213-4952-9c0b-37e2af592c87",
   "metadata": {},
   "source": [
    "# References\n",
    "1.  Akosa, Josephine. \"Predictive accuracy: A misleading performance measure for highly imbalanced data.\" Proceedings of the SAS global forum. Vol. 12. Cary, NC, USA: SAS Institute Inc., 2017.\n",
    "2.  https://scikit-learn.org/stable/modules/generated/sklearn.metrics.balanced_accuracy_score.html\n"
   ]
  },
  {
   "cell_type": "code",
   "execution_count": null,
   "id": "105fc6c9-e8f8-4765-8dbd-87dde8500516",
   "metadata": {},
   "outputs": [],
   "source": []
  }
 ],
 "metadata": {
  "kernelspec": {
   "display_name": "Python 3 (ipykernel)",
   "language": "python",
   "name": "python3"
  },
  "language_info": {
   "codemirror_mode": {
    "name": "ipython",
    "version": 3
   },
   "file_extension": ".py",
   "mimetype": "text/x-python",
   "name": "python",
   "nbconvert_exporter": "python",
   "pygments_lexer": "ipython3",
   "version": "3.12.3"
  }
 },
 "nbformat": 4,
 "nbformat_minor": 5
}
